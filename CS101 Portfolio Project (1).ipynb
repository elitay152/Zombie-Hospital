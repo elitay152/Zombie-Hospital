{
 "cells": [
  {
   "cell_type": "code",
   "execution_count": 1,
   "id": "d3a9c1d7",
   "metadata": {},
   "outputs": [],
   "source": [
    "#zombie hospital, \n",
    "#you must shoot medications at the zombies to return them to their human forms. \n",
    "#if they eat you before you can shoot them, then you turn into a zombie and game over\n",
    "#if you shoot all zombies, the world is saved and you win\n",
    "#text based single player game\n",
    "\n",
    "\n",
    "#player is nurse class, zombies are zombie class\n",
    "#medication is a variable within Nurse class\n",
    "#nurse can shoot medication, make medication, dodge zombie, gain/lose health\n",
    "#zombie can advance, bite, lose health, groan\n"
   ]
  },
  {
   "cell_type": "code",
   "execution_count": 2,
   "id": "d42be4d7",
   "metadata": {},
   "outputs": [],
   "source": [
    "import random\n",
    "import sys"
   ]
  },
  {
   "cell_type": "code",
   "execution_count": 3,
   "id": "941f788f",
   "metadata": {},
   "outputs": [],
   "source": [
    "class Nurse():\n",
    "    def __init__(self, name):\n",
    "        self.name = name\n",
    "        self.level = 1\n",
    "        self.health = 3\n",
    "        self.med_bag = 0\n",
    "        self.life = True\n",
    "    def __repr__():\n",
    "        print(\"Nurse {name} is level {level}. Health meter: {health}\".format(name = self.name, level = self.level, health = self.health))\n",
    "    def gain_health(self):\n",
    "        if self.health < 5:\n",
    "            self.health += 1\n",
    "            print(\"Health increased!\")\n",
    "        else:\n",
    "            print(\"Your health is full.\")\n",
    "    def lose_health(self):\n",
    "        if self.health > 0:\n",
    "            self.health -= 1\n",
    "            print(\"Ouch! The zombie just bit you! Eww.\")\n",
    "        else:\n",
    "            self.life = False\n",
    "            print(\"{name} has died.\".format(name = self.name))\n",
    "    def make_medicine(self):\n",
    "        self.med_bag += 2\n",
    "        print(\"Great work! Your medication stock has increased by 2!\")\n",
    "    def shoot_your_shot(self, zombie):\n",
    "        if self.med_bag > 0:\n",
    "            self.med_bag -= 1\n",
    "            zombie.get_shot()\n",
    "        else:\n",
    "            print(\"You need to make some medicine first.\")\n",
    "        \n",
    "    "
   ]
  },
  {
   "cell_type": "code",
   "execution_count": 4,
   "id": "ed7ba701",
   "metadata": {},
   "outputs": [],
   "source": [
    "class Zombie():\n",
    "    def __init__(self):\n",
    "        self.distance = 5\n",
    "        self.health = 3\n",
    "        self.life = False\n",
    "    def __repr__():\n",
    "        print(\"That's a zombie! It is {distance} feet away. Shoot {health} more times to heal it.\".format(distance = self.distance, health = self.health))\n",
    "    def get_shot(self):\n",
    "        if self.health >= 1:\n",
    "            self.health -= 1\n",
    "            print(\"Blarg! You shot the zombie. They are starting to look a little bit less dead.\")\n",
    "        else:\n",
    "            self.life = True\n",
    "            print(\"The zombie heals before your eyes. Amazing!\")\n",
    "    def bite(self):\n",
    "        if self.distance <= 3:\n",
    "            nurse1.lose_health()\n",
    "        else:\n",
    "            print(\"The zombie tried to bite you and missed.\")\n",
    "    def groan(self):\n",
    "        if self.life == True:\n",
    "            print(\"You saved me!\")\n",
    "        else:\n",
    "            print(\"The zombie sways back and forth, groaning.\")\n",
    "    def advance(self):\n",
    "        if self.life == True:\n",
    "            print(\"You saved me!\")\n",
    "        else:\n",
    "            self.distance -= 1\n",
    "            print(\"The zombie steps closer.\")"
   ]
  },
  {
   "cell_type": "code",
   "execution_count": 5,
   "id": "a6972d4b",
   "metadata": {},
   "outputs": [],
   "source": [
    "def nurse_gameplay(choice):\n",
    "    if choice.lower() == 'make medicine':\n",
    "        return nurse1.make_medicine()\n",
    "    elif choice.lower() == 'take medicine':\n",
    "        return nurse1.gain_health()\n",
    "    elif choice.lower() == 'shoot medicine':\n",
    "        return nurse1.shoot_your_shot(zombie1)\n",
    "    else:\n",
    "        print(\"Ooops! Please type: 'Make Medicine', 'Take Medicine', or 'Shoot Medicine'.\")\n",
    "def zombie1_gameplay():\n",
    "    return (random.choice([zombie1.bite, zombie1.groan, zombie1.advance]))()"
   ]
  },
  {
   "cell_type": "code",
   "execution_count": 6,
   "id": "d95c442f",
   "metadata": {},
   "outputs": [],
   "source": [
    "def check_life(nurse, zombie):\n",
    "    if nurse.life == False:\n",
    "        sys.exit(\"Looks like you are a zombie. Oh dear. Game Over.\")\n",
    "    elif zombie.life == True:\n",
    "        sys.exit(\"You healed all the zombies! The world is saved thanks to your miracle cure! Well done, nurse {name}.\".format(name = nurse.name))\n",
    "    else:\n",
    "        print(\"You live to fight another round.\")"
   ]
  },
  {
   "cell_type": "code",
   "execution_count": null,
   "id": "617e09e1",
   "metadata": {},
   "outputs": [],
   "source": [
    "player = input(\"You arrived for you shift at the hospital, coffee in hand, with 5 minutes to spare. \\nYou are feeling pretty good about this. You look around and realize that everyone else is looking a bit... dead. \\nWhat has happened?! Give your character a name to find out.\")"
   ]
  },
  {
   "cell_type": "code",
   "execution_count": null,
   "id": "2136651e",
   "metadata": {
    "scrolled": true
   },
   "outputs": [],
   "source": [
    "nurse1 = Nurse(player)\n",
    "zombie1 = Zombie()\n",
    "print(\"Your coworker shuffles up to you slowly, moaning, '{name}...' \\nYou start to ask them what's going on, when suddenly they try to bite you! \\nYou scream and run behind the nursing station, locking yourself in the med room. \\nYou look out through the windows, and realize that everyone at work has turned into a zombie! \\nThe hospital doesn't pay you enough for this...\".format(name = nurse1.name))"
   ]
  },
  {
   "cell_type": "code",
   "execution_count": null,
   "id": "21e2ef94",
   "metadata": {},
   "outputs": [],
   "source": [
    "choice_1 = input(\"You look around the room, trying to figure out how you can escape. What will you do first? Choose wisely. Type one of the following to continue: 'Make Medicine', 'Take Medicine', 'Shoot Medicine'.\")"
   ]
  },
  {
   "cell_type": "code",
   "execution_count": null,
   "id": "43f22fb3",
   "metadata": {},
   "outputs": [],
   "source": [
    "nurse_gameplay(choice_1)\n",
    "zombie1_gameplay()\n",
    "check_life(nurse1, zombie1)"
   ]
  },
  {
   "cell_type": "code",
   "execution_count": null,
   "id": "f0b532da",
   "metadata": {},
   "outputs": [],
   "source": [
    "print(\"You'd better make sure the zombie doesn't get close enough to bite you!\")"
   ]
  },
  {
   "cell_type": "code",
   "execution_count": null,
   "id": "fe6c05d7",
   "metadata": {},
   "outputs": [],
   "source": [
    "choice_2 = input(\"What will you do next? Choose wisely: 'Make Medicine', 'Take Medicine', 'Shoot Medicine'.\")"
   ]
  },
  {
   "cell_type": "code",
   "execution_count": null,
   "id": "9599f396",
   "metadata": {},
   "outputs": [],
   "source": [
    "nurse_gameplay(choice_2)\n",
    "zombie1_gameplay()\n",
    "check_life(nurse1, zombie1)"
   ]
  },
  {
   "cell_type": "code",
   "execution_count": null,
   "id": "385c6b8d",
   "metadata": {},
   "outputs": [],
   "source": [
    "print(\"The radio crackles on: 'The CDC recommends barricading yourself indoors.'\")"
   ]
  },
  {
   "cell_type": "code",
   "execution_count": null,
   "id": "9553e0c7",
   "metadata": {},
   "outputs": [],
   "source": [
    "choice_3 = input(\"What will you do next? Choose wisely: 'Make Medicine', 'Take Medicine', 'Shoot Medicine'.\")"
   ]
  },
  {
   "cell_type": "code",
   "execution_count": null,
   "id": "bd5f0247",
   "metadata": {},
   "outputs": [],
   "source": [
    "nurse_gameplay(choice_3)\n",
    "zombie1_gameplay()\n",
    "check_life(nurse1, zombie1)"
   ]
  },
  {
   "cell_type": "code",
   "execution_count": null,
   "id": "a82ee1d9",
   "metadata": {},
   "outputs": [],
   "source": [
    "print(\"Radio: 'The CDC recommends everyone check themselves for a pulse before gathering in groups of 3 or more.'\")"
   ]
  },
  {
   "cell_type": "code",
   "execution_count": null,
   "id": "22a2c111",
   "metadata": {},
   "outputs": [],
   "source": [
    "choice_4 = input(\"What will you do next? 'Make Medicine', 'Take Medicine', 'Shoot Medicine'.\")"
   ]
  },
  {
   "cell_type": "code",
   "execution_count": null,
   "id": "c40ab1f4",
   "metadata": {},
   "outputs": [],
   "source": [
    "nurse_gameplay(choice_4)\n",
    "zombie1_gameplay()\n",
    "check_life(nurse1, zombie1)"
   ]
  },
  {
   "cell_type": "code",
   "execution_count": null,
   "id": "a6234fd0",
   "metadata": {},
   "outputs": [],
   "source": [
    "print(\"Your phone buzzes in your pocket. You look down from your zombie battle to check it. \\nYou've received an email: 'Can you work a double shift tonight?' \\nSeems like someone in the staffing office is still alive.\")"
   ]
  },
  {
   "cell_type": "code",
   "execution_count": null,
   "id": "6513e365",
   "metadata": {},
   "outputs": [],
   "source": [
    "choice_5 = input(\"What will you do next? 'Make Medicine', 'Take Medicine', 'Shoot Medicine'.\")"
   ]
  },
  {
   "cell_type": "code",
   "execution_count": null,
   "id": "5aaffa8c",
   "metadata": {},
   "outputs": [],
   "source": [
    "nurse_gameplay(choice_5)\n",
    "zombie1_gameplay()\n",
    "check_life(nurse1, zombie1)"
   ]
  },
  {
   "cell_type": "code",
   "execution_count": null,
   "id": "c41cf5e3",
   "metadata": {},
   "outputs": [],
   "source": [
    "print(\"Radio crackles: 'The CDC recommends those with moderate to severe brain cravings stay home from work. \\nThose with a mild craving for human brains should continue to report for work as usual.'\")"
   ]
  },
  {
   "cell_type": "code",
   "execution_count": null,
   "id": "c58b5787",
   "metadata": {},
   "outputs": [],
   "source": [
    "choice_6 = input(\"What will you do next? 'Make Medicine', 'Take Medicine', 'Shoot Medicine'.\")"
   ]
  },
  {
   "cell_type": "code",
   "execution_count": null,
   "id": "8799eab5",
   "metadata": {},
   "outputs": [],
   "source": [
    "nurse_gameplay(choice_6)\n",
    "zombie1_gameplay()\n",
    "check_life(nurse1, zombie1)"
   ]
  },
  {
   "cell_type": "code",
   "execution_count": null,
   "id": "1a0aeddd",
   "metadata": {},
   "outputs": [],
   "source": [
    "print(\"Your phone chimes. It's a calendar alert. \\nYou were supposed to leave for your Zombie Vaccine appointment in a few minutes. \\nYou wanted to get it months ago but you weren't considered 'at high risk of zombification'.\\nBetter late than never?\")"
   ]
  },
  {
   "cell_type": "code",
   "execution_count": null,
   "id": "31b802c9",
   "metadata": {},
   "outputs": [],
   "source": [
    "choice_7 = input(\"What will you do next? 'Make Medicine', 'Take Medicine', 'Shoot Medicine'.\")"
   ]
  },
  {
   "cell_type": "code",
   "execution_count": null,
   "id": "823c2b0a",
   "metadata": {},
   "outputs": [],
   "source": [
    "nurse_gameplay(choice_7)\n",
    "zombie1_gameplay()\n",
    "check_life(nurse1, zombie1)"
   ]
  },
  {
   "cell_type": "code",
   "execution_count": null,
   "id": "ab8091cf",
   "metadata": {},
   "outputs": [],
   "source": [
    "print(\"Radio crackles: 'The CDC now recommends you can bite whoever you want, since Zombie virus is endemic to the population.'\")"
   ]
  },
  {
   "cell_type": "code",
   "execution_count": null,
   "id": "6b928a16",
   "metadata": {},
   "outputs": [],
   "source": [
    "choice_8 = input(\"What will you do next? 'Make Medicine', 'Take Medicine', 'Shoot Medicine'.\")"
   ]
  },
  {
   "cell_type": "code",
   "execution_count": null,
   "id": "47267462",
   "metadata": {},
   "outputs": [],
   "source": [
    "nurse_gameplay(choice_8)\n",
    "zombie1_gameplay()\n",
    "check_life(nurse1, zombie1)"
   ]
  },
  {
   "cell_type": "code",
   "execution_count": null,
   "id": "6a2f1168",
   "metadata": {},
   "outputs": [],
   "source": []
  }
 ],
 "metadata": {
  "kernelspec": {
   "display_name": "Python 3 (ipykernel)",
   "language": "python",
   "name": "python3"
  },
  "language_info": {
   "codemirror_mode": {
    "name": "ipython",
    "version": 3
   },
   "file_extension": ".py",
   "mimetype": "text/x-python",
   "name": "python",
   "nbconvert_exporter": "python",
   "pygments_lexer": "ipython3",
   "version": "3.9.12"
  }
 },
 "nbformat": 4,
 "nbformat_minor": 5
}
