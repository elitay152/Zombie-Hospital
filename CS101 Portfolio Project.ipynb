{
 "cells": [
  {
   "cell_type": "code",
   "execution_count": 1,
   "id": "e209eecc",
   "metadata": {},
   "outputs": [],
   "source": [
    "#zombie hospital, \n",
    "#you must shoot medications at the zombies to return them to their human forms. \n",
    "#if they eat you before you can shoot them, then you turn into a zombie and game over\n",
    "#if you shoot all zombies, the world is saved and you win\n",
    "#text based single player game\n",
    "\n",
    "\n",
    "#player is nurse class, zombies are zombie class\n",
    "#medication is a variable within Nurse class\n",
    "#nurse can shoot medication, make medication, dodge zombie, gain/lose health\n",
    "#zombie can advance, bite, lose health, groan\n"
   ]
  },
  {
   "cell_type": "code",
   "execution_count": 2,
   "id": "fa493d1b",
   "metadata": {},
   "outputs": [],
   "source": [
    "import random\n",
    "import sys"
   ]
  },
  {
   "cell_type": "code",
   "execution_count": 3,
   "id": "530acdb7",
   "metadata": {},
   "outputs": [],
   "source": [
    "class Nurse():\n",
    "    def __init__(self, name):\n",
    "        self.name = name\n",
    "        self.level = 1\n",
    "        self.health = 3\n",
    "        self.med_bag = 0\n",
    "        self.life = True\n",
    "    def __repr__():\n",
    "        print(\"Nurse {name} is level {level}. Health meter: {health}\".format(name = self.name, level = self.level, health = self.health))\n",
    "    def gain_health(self):\n",
    "        if self.health < 5:\n",
    "            self.health += 1\n",
    "            print(\"Health increased!\")\n",
    "        else:\n",
    "            print(\"Your health is full.\")\n",
    "    def lose_health(self):\n",
    "        if self.health > 0:\n",
    "            self.health -= 1\n",
    "            print(\"Ouch! The zombie just bit you! Eww.\")\n",
    "        else:\n",
    "            self.life = False\n",
    "            print(\"{name} has died.\".format(name = self.name))\n",
    "    def make_medicine(self):\n",
    "        self.med_bag += 2\n",
    "        print(\"Great work! Your medication stock has increased by 2!\")\n",
    "    def shoot_your_shot(self, zombie):\n",
    "        if self.med_bag > 0:\n",
    "            self.med_bag -= 1\n",
    "            zombie.get_shot()\n",
    "        else:\n",
    "            print(\"You need to make some medicine first.\")\n",
    "        \n",
    "    "
   ]
  },
  {
   "cell_type": "code",
   "execution_count": 4,
   "id": "7876e633",
   "metadata": {},
   "outputs": [],
   "source": [
    "class Zombie():\n",
    "    def __init__(self):\n",
    "        self.distance = 5\n",
    "        self.health = 3\n",
    "        self.life = False\n",
    "    def __repr__():\n",
    "        print(\"That's a zombie! It is {distance} feet away. Shoot {health} more times to heal it.\".format(distance = self.distance, health = self.health))\n",
    "    def get_shot(self):\n",
    "        if self.health >= 1:\n",
    "            self.health -= 1\n",
    "            print(\"Blarg! You shot the zombie. They are starting to look a little bit less dead.\")\n",
    "        else:\n",
    "            self.life = True\n",
    "            print(\"The zombie heals before your eyes. Amazing!\")\n",
    "    def bite(self):\n",
    "        if self.distance <= 3:\n",
    "            nurse1.lose_health()\n",
    "        else:\n",
    "            print(\"The zombie tried to bite you and missed.\")\n",
    "    def groan(self):\n",
    "        if self.life == True:\n",
    "            print(\"You saved me!\")\n",
    "        else:\n",
    "            print(\"The zombie sways back and forth, groaning.\")\n",
    "    def advance(self):\n",
    "        if self.life == True:\n",
    "            print(\"You saved me!\")\n",
    "        else:\n",
    "            self.distance -= 1\n",
    "            print(\"The zombie steps closer.\")"
   ]
  },
  {
   "cell_type": "code",
   "execution_count": 5,
   "id": "b1a87e9f",
   "metadata": {},
   "outputs": [],
   "source": [
    "def nurse_gameplay(choice):\n",
    "    if choice.lower() == 'make medicine':\n",
    "        return nurse1.make_medicine()\n",
    "    elif choice.lower() == 'take medicine':\n",
    "        return nurse1.gain_health()\n",
    "    elif choice.lower() == 'shoot medicine':\n",
    "        return nurse1.shoot_your_shot(zombie1)\n",
    "    else:\n",
    "        print(\"Ooops! Please type: 'Make Medicine', 'Take Medicine', or 'Shoot Medicine'.\")\n",
    "def zombie1_gameplay():\n",
    "    return (random.choice([zombie1.bite, zombie1.groan, zombie1.advance]))()"
   ]
  },
  {
   "cell_type": "code",
   "execution_count": 6,
   "id": "83ac6f01",
   "metadata": {},
   "outputs": [],
   "source": [
    "def check_life(nurse, zombie):\n",
    "    if nurse.life == False:\n",
    "        sys.exit(\"Looks like you are a zombie. Oh dear. Game Over.\")\n",
    "    elif zombie.life == True:\n",
    "        sys.exit(\"You healed all the zombies! The world is saved thanks to your miracle cure! Well done, nurse {name}.\".format(name = nurse.name))\n",
    "    else:\n",
    "        print(\"You live to fight another round.\")"
   ]
  },
  {
   "cell_type": "code",
   "execution_count": 7,
   "id": "0c5d58c5",
   "metadata": {},
   "outputs": [
    {
     "name": "stdout",
     "output_type": "stream",
     "text": [
      "You arrived for you shift at the hospital, coffee in hand, with 5 minutes to spare. \n",
      "You are feeling pretty good about this. You look around and realize that everyone else is looking a bit... dead. \n",
      "What has happened?! Give your character a name to find out.Eli\n"
     ]
    }
   ],
   "source": [
    "player = input(\"You arrived for you shift at the hospital, coffee in hand, with 5 minutes to spare. \\nYou are feeling pretty good about this. You look around and realize that everyone else is looking a bit... dead. \\nWhat has happened?! Give your character a name to find out.\")"
   ]
  },
  {
   "cell_type": "code",
   "execution_count": 8,
   "id": "8137ce34",
   "metadata": {
    "scrolled": true
   },
   "outputs": [
    {
     "name": "stdout",
     "output_type": "stream",
     "text": [
      "Your coworker shuffles up to you slowly, moaning, 'Eli...' \n",
      "You start to ask them what's going on, when suddenly they try to bite you! \n",
      "You scream and run behind the nursing station, locking yourself in the med room. \n",
      "You look out through the windows, and realize that everyone at work has turned into a zombie! \n",
      "The hospital doesn't pay you enough for this...\n"
     ]
    }
   ],
   "source": [
    "nurse1 = Nurse(player)\n",
    "zombie1 = Zombie()\n",
    "print(\"Your coworker shuffles up to you slowly, moaning, '{name}...' \\nYou start to ask them what's going on, when suddenly they try to bite you! \\nYou scream and run behind the nursing station, locking yourself in the med room. \\nYou look out through the windows, and realize that everyone at work has turned into a zombie! \\nThe hospital doesn't pay you enough for this...\".format(name = nurse1.name))"
   ]
  },
  {
   "cell_type": "code",
   "execution_count": 9,
   "id": "ee513fd6",
   "metadata": {},
   "outputs": [
    {
     "name": "stdout",
     "output_type": "stream",
     "text": [
      "You look around the room, trying to figure out how you can escape. What will you do first? Choose wisely. Type one of the following to continue: 'Make Medicine', 'Take Medicine', 'Shoot Medicine'.make medicine\n"
     ]
    }
   ],
   "source": [
    "choice_1 = input(\"You look around the room, trying to figure out how you can escape. What will you do first? Choose wisely. Type one of the following to continue: 'Make Medicine', 'Take Medicine', 'Shoot Medicine'.\")"
   ]
  },
  {
   "cell_type": "code",
   "execution_count": 10,
   "id": "1ee02f4b",
   "metadata": {},
   "outputs": [
    {
     "name": "stdout",
     "output_type": "stream",
     "text": [
      "Great work! Your medication stock has increased by 2!\n",
      "The zombie steps closer.\n",
      "You live to fight another round.\n"
     ]
    }
   ],
   "source": [
    "nurse_gameplay(choice_1)\n",
    "zombie1_gameplay()\n",
    "check_life(nurse1, zombie1)"
   ]
  },
  {
   "cell_type": "code",
   "execution_count": 11,
   "id": "c72b2ebd",
   "metadata": {},
   "outputs": [
    {
     "name": "stdout",
     "output_type": "stream",
     "text": [
      "You'd better make sure the zombie doesn't get close enough to bite you!\n"
     ]
    }
   ],
   "source": [
    "print(\"You'd better make sure the zombie doesn't get close enough to bite you!\")"
   ]
  },
  {
   "cell_type": "code",
   "execution_count": 12,
   "id": "0e70a701",
   "metadata": {},
   "outputs": [
    {
     "name": "stdout",
     "output_type": "stream",
     "text": [
      "What will you do next? Choose wisely: 'Make Medicine', 'Take Medicine', 'Shoot Medicine'.shoot medicine\n"
     ]
    }
   ],
   "source": [
    "choice_2 = input(\"What will you do next? Choose wisely: 'Make Medicine', 'Take Medicine', 'Shoot Medicine'.\")"
   ]
  },
  {
   "cell_type": "code",
   "execution_count": 13,
   "id": "49abf41f",
   "metadata": {},
   "outputs": [
    {
     "name": "stdout",
     "output_type": "stream",
     "text": [
      "Blarg! You shot the zombie. They are starting to look a little bit less dead.\n",
      "The zombie steps closer.\n",
      "You live to fight another round.\n"
     ]
    }
   ],
   "source": [
    "nurse_gameplay(choice_2)\n",
    "zombie1_gameplay()\n",
    "check_life(nurse1, zombie1)"
   ]
  },
  {
   "cell_type": "code",
   "execution_count": 14,
   "id": "bf5271d2",
   "metadata": {},
   "outputs": [
    {
     "name": "stdout",
     "output_type": "stream",
     "text": [
      "The radio crackles on: 'The CDC recommends barricading yourself indoors.'\n"
     ]
    }
   ],
   "source": [
    "print(\"The radio crackles on: 'The CDC recommends barricading yourself indoors.'\")"
   ]
  },
  {
   "cell_type": "code",
   "execution_count": 15,
   "id": "6a0467fc",
   "metadata": {},
   "outputs": [
    {
     "name": "stdout",
     "output_type": "stream",
     "text": [
      "What will you do next? Choose wisely: 'Make Medicine', 'Take Medicine', 'Shoot Medicine'.make medicine\n"
     ]
    }
   ],
   "source": [
    "choice_3 = input(\"What will you do next? Choose wisely: 'Make Medicine', 'Take Medicine', 'Shoot Medicine'.\")"
   ]
  },
  {
   "cell_type": "code",
   "execution_count": 16,
   "id": "e645d57e",
   "metadata": {},
   "outputs": [
    {
     "name": "stdout",
     "output_type": "stream",
     "text": [
      "Great work! Your medication stock has increased by 2!\n",
      "The zombie steps closer.\n",
      "You live to fight another round.\n"
     ]
    }
   ],
   "source": [
    "nurse_gameplay(choice_3)\n",
    "zombie1_gameplay()\n",
    "check_life(nurse1, zombie1)"
   ]
  },
  {
   "cell_type": "code",
   "execution_count": 17,
   "id": "75192270",
   "metadata": {},
   "outputs": [
    {
     "name": "stdout",
     "output_type": "stream",
     "text": [
      "Radio: 'The CDC recommends everyone check themselves for a pulse before gathering in groups of 3 or more.'\n"
     ]
    }
   ],
   "source": [
    "print(\"Radio: 'The CDC recommends everyone check themselves for a pulse before gathering in groups of 3 or more.'\")"
   ]
  },
  {
   "cell_type": "code",
   "execution_count": 18,
   "id": "afb07864",
   "metadata": {},
   "outputs": [
    {
     "name": "stdout",
     "output_type": "stream",
     "text": [
      "What will you do next? 'Make Medicine', 'Take Medicine', 'Shoot Medicine'.shoot medicine\n"
     ]
    }
   ],
   "source": [
    "choice_4 = input(\"What will you do next? 'Make Medicine', 'Take Medicine', 'Shoot Medicine'.\")"
   ]
  },
  {
   "cell_type": "code",
   "execution_count": 19,
   "id": "79d44c2b",
   "metadata": {},
   "outputs": [
    {
     "name": "stdout",
     "output_type": "stream",
     "text": [
      "Blarg! You shot the zombie. They are starting to look a little bit less dead.\n",
      "Ouch! The zombie just bit you! Eww.\n",
      "You live to fight another round.\n"
     ]
    }
   ],
   "source": [
    "nurse_gameplay(choice_4)\n",
    "zombie1_gameplay()\n",
    "check_life(nurse1, zombie1)"
   ]
  },
  {
   "cell_type": "code",
   "execution_count": 20,
   "id": "e1bafdbe",
   "metadata": {},
   "outputs": [
    {
     "name": "stdout",
     "output_type": "stream",
     "text": [
      "Your phone buzzes in your pocket. You look down from your zombie battle to check it. \n",
      "You've received an email: 'Can you work a double shift tonight?' \n",
      "Seems like someone in the staffing office is still alive.\n"
     ]
    }
   ],
   "source": [
    "print(\"Your phone buzzes in your pocket. You look down from your zombie battle to check it. \\nYou've received an email: 'Can you work a double shift tonight?' \\nSeems like someone in the staffing office is still alive.\")"
   ]
  },
  {
   "cell_type": "code",
   "execution_count": 21,
   "id": "02c5beff",
   "metadata": {},
   "outputs": [
    {
     "name": "stdout",
     "output_type": "stream",
     "text": [
      "What will you do next? 'Make Medicine', 'Take Medicine', 'Shoot Medicine'.take medicine\n"
     ]
    }
   ],
   "source": [
    "choice_5 = input(\"What will you do next? 'Make Medicine', 'Take Medicine', 'Shoot Medicine'.\")"
   ]
  },
  {
   "cell_type": "code",
   "execution_count": 22,
   "id": "40fe58e9",
   "metadata": {},
   "outputs": [
    {
     "name": "stdout",
     "output_type": "stream",
     "text": [
      "Health increased!\n",
      "The zombie sways back and forth, groaning.\n",
      "You live to fight another round.\n"
     ]
    }
   ],
   "source": [
    "nurse_gameplay(choice_5)\n",
    "zombie1_gameplay()\n",
    "check_life(nurse1, zombie1)"
   ]
  },
  {
   "cell_type": "code",
   "execution_count": 23,
   "id": "e2204603",
   "metadata": {},
   "outputs": [
    {
     "name": "stdout",
     "output_type": "stream",
     "text": [
      "Radio crackles: 'The CDC recommends those with moderate to severe brain cravings stay home from work. \n",
      "Those with a mild craving for human brains should continue to report for work as usual.'\n"
     ]
    }
   ],
   "source": [
    "print(\"Radio crackles: 'The CDC recommends those with moderate to severe brain cravings stay home from work. \\nThose with a mild craving for human brains should continue to report for work as usual.'\")"
   ]
  },
  {
   "cell_type": "code",
   "execution_count": 24,
   "id": "2a61f622",
   "metadata": {},
   "outputs": [
    {
     "name": "stdout",
     "output_type": "stream",
     "text": [
      "What will you do next? 'Make Medicine', 'Take Medicine', 'Shoot Medicine'.shoot medicine\n"
     ]
    }
   ],
   "source": [
    "choice_6 = input(\"What will you do next? 'Make Medicine', 'Take Medicine', 'Shoot Medicine'.\")"
   ]
  },
  {
   "cell_type": "code",
   "execution_count": 25,
   "id": "5d7b513e",
   "metadata": {},
   "outputs": [
    {
     "name": "stdout",
     "output_type": "stream",
     "text": [
      "Blarg! You shot the zombie. They are starting to look a little bit less dead.\n",
      "The zombie steps closer.\n",
      "You live to fight another round.\n"
     ]
    }
   ],
   "source": [
    "nurse_gameplay(choice_6)\n",
    "zombie1_gameplay()\n",
    "check_life(nurse1, zombie1)"
   ]
  },
  {
   "cell_type": "code",
   "execution_count": 26,
   "id": "bbf729dd",
   "metadata": {},
   "outputs": [
    {
     "name": "stdout",
     "output_type": "stream",
     "text": [
      "Your phone chimes. It's a calendar alert. \n",
      "You were supposed to leave for your Zombie Vaccine appointment in a few minutes. \n",
      "You wanted to get it months ago but you weren't considered 'at high risk of zombification'.\n",
      "Better late than never?\n"
     ]
    }
   ],
   "source": [
    "print(\"Your phone chimes. It's a calendar alert. \\nYou were supposed to leave for your Zombie Vaccine appointment in a few minutes. \\nYou wanted to get it months ago but you weren't considered 'at high risk of zombification'.\\nBetter late than never?\")"
   ]
  },
  {
   "cell_type": "code",
   "execution_count": 27,
   "id": "b6742a5e",
   "metadata": {},
   "outputs": [
    {
     "name": "stdout",
     "output_type": "stream",
     "text": [
      "What will you do next? 'Make Medicine', 'Take Medicine', 'Shoot Medicine'.shoot medicine\n"
     ]
    }
   ],
   "source": [
    "choice_7 = input(\"What will you do next? 'Make Medicine', 'Take Medicine', 'Shoot Medicine'.\")"
   ]
  },
  {
   "cell_type": "code",
   "execution_count": 28,
   "id": "1421986e",
   "metadata": {},
   "outputs": [
    {
     "name": "stdout",
     "output_type": "stream",
     "text": [
      "The zombie heals before your eyes. Amazing!\n",
      "You saved me!\n"
     ]
    },
    {
     "ename": "SystemExit",
     "evalue": "You healed all the zombies! The world is saved thanks to your miracle cure! Well done, nurse Eli.",
     "output_type": "error",
     "traceback": [
      "An exception has occurred, use %tb to see the full traceback.\n",
      "\u001b[1;31mSystemExit\u001b[0m\u001b[1;31m:\u001b[0m You healed all the zombies! The world is saved thanks to your miracle cure! Well done, nurse Eli.\n"
     ]
    },
    {
     "name": "stderr",
     "output_type": "stream",
     "text": [
      "C:\\Users\\root\\anaconda3\\lib\\site-packages\\IPython\\core\\interactiveshell.py:3377: UserWarning: To exit: use 'exit', 'quit', or Ctrl-D.\n",
      "  warn(\"To exit: use 'exit', 'quit', or Ctrl-D.\", stacklevel=1)\n"
     ]
    }
   ],
   "source": [
    "nurse_gameplay(choice_7)\n",
    "zombie1_gameplay()\n",
    "check_life(nurse1, zombie1)"
   ]
  },
  {
   "cell_type": "code",
   "execution_count": 29,
   "id": "87bf5400",
   "metadata": {},
   "outputs": [
    {
     "name": "stdout",
     "output_type": "stream",
     "text": [
      "Radio crackles: 'The CDC now recommends you can bite whoever you want, since Zombie virus is endemic to the population.'\n"
     ]
    }
   ],
   "source": [
    "print(\"Radio crackles: 'The CDC now recommends you can bite whoever you want, since Zombie virus is endemic to the population.'\")"
   ]
  },
  {
   "cell_type": "code",
   "execution_count": null,
   "id": "101dfaab",
   "metadata": {},
   "outputs": [],
   "source": [
    "choice_8 = input(\"What will you do next? 'Make Medicine', 'Take Medicine', 'Shoot Medicine'.\")"
   ]
  },
  {
   "cell_type": "code",
   "execution_count": null,
   "id": "3aaae325",
   "metadata": {},
   "outputs": [],
   "source": [
    "nurse_gameplay(choice_8)\n",
    "zombie1_gameplay()\n",
    "check_life(nurse1, zombie1)"
   ]
  },
  {
   "cell_type": "code",
   "execution_count": null,
   "id": "5fac5464",
   "metadata": {},
   "outputs": [],
   "source": []
  }
 ],
 "metadata": {
  "kernelspec": {
   "display_name": "Python 3 (ipykernel)",
   "language": "python",
   "name": "python3"
  },
  "language_info": {
   "codemirror_mode": {
    "name": "ipython",
    "version": 3
   },
   "file_extension": ".py",
   "mimetype": "text/x-python",
   "name": "python",
   "nbconvert_exporter": "python",
   "pygments_lexer": "ipython3",
   "version": "3.9.12"
  }
 },
 "nbformat": 4,
 "nbformat_minor": 5
}
